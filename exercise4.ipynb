{
  "cells": [
    {
      "cell_type": "markdown",
      "metadata": {
        "id": "view-in-github",
        "colab_type": "text"
      },
      "source": [
        "<a href=\"https://colab.research.google.com/github/Mallowsss/CCALCOMP_EXERCISES_COM222/blob/main/exercise4.ipynb\" target=\"_parent\"><img src=\"https://colab.research.google.com/assets/colab-badge.svg\" alt=\"Open In Colab\"/></a>"
      ]
    },
    {
      "cell_type": "markdown",
      "metadata": {
        "id": "cPRRjBOhHHMh"
      },
      "source": [
        "# Exercise 4\n",
        "\n",
        "Please follow the instructions in each number."
      ]
    },
    {
      "cell_type": "markdown",
      "metadata": {
        "id": "zvDTNWRFHHMk"
      },
      "source": [
        "### Activity Selection Problem\n",
        "\n",
        "Given a set of activities, along with the starting and finishing time of each activity, find the maximum number of activities performed by a single person assuming that a person can only work on a single activity at a time.\n",
        "\n",
        "For example,\n",
        "\n",
        "Input: Following set of activities (1, 4), (3, 5), (0, 6), (5, 7), (3, 8), (5, 9), (6, 10), (8, 11), (8, 12), (2, 13), (12, 14)  \n",
        "\n",
        "Output: (1, 4), (5, 7), (8, 11), (12, 14)"
      ]
    },
    {
      "cell_type": "markdown",
      "metadata": {
        "id": "ff7w7YLGHHMl"
      },
      "source": [
        "## Tasks"
      ]
    },
    {
      "cell_type": "markdown",
      "metadata": {
        "id": "0QLHdoNSHHMl"
      },
      "source": [
        "1. Write a program using a recursive greedy approach to get the maximum number of activities (`50 points`)"
      ]
    },
    {
      "cell_type": "code",
      "execution_count": 4,
      "metadata": {
        "vscode": {
          "languageId": "plaintext"
        },
        "id": "Xe02cHvAHHMl",
        "outputId": "8598f59d-2659-46e1-c45b-fc491cbce8b6",
        "colab": {
          "base_uri": "https://localhost:8080/"
        }
      },
      "outputs": [
        {
          "output_type": "stream",
          "name": "stdout",
          "text": [
            "[(1, 4), (5, 7), (8, 11), (12, 14)]\n"
          ]
        }
      ],
      "source": [
        "# put your answer here\n",
        "def recursive_activity_selector(activities, start, finish, n):\n",
        "    # Base case: no activities left\n",
        "    if n == 0:\n",
        "        return []\n",
        "\n",
        "    # Find the first activity in sorted order\n",
        "    for i in range(n):\n",
        "        if start[i] >= finish[0]:\n",
        "            # Recursively select the next activities\n",
        "            return [(start[0], finish[0])] + recursive_activity_selector(\n",
        "                activities, start[i:], finish[i:], n - i\n",
        "            )\n",
        "\n",
        "    return [(start[0], finish[0])]\n",
        "\n",
        "\n",
        "def recursive_max_activities(activities):\n",
        "    # Sort activities based on finish time\n",
        "    activities.sort(key=lambda x: x[1])\n",
        "    start = [activity[0] for activity in activities]\n",
        "    finish = [activity[1] for activity in activities]\n",
        "    n = len(activities)\n",
        "\n",
        "    return recursive_activity_selector(activities, start, finish, n)\n",
        "\n",
        "\n",
        "\n",
        "activities = [\n",
        "    (1, 4), (3, 5), (0, 6), (5, 7), (3, 8),\n",
        "    (5, 9), (6, 10), (8, 11), (8, 12), (2, 13), (12, 14)\n",
        "]\n",
        "\n",
        "print(recursive_max_activities(activities))\n",
        "# Output: [(1, 4), (5, 7), (8, 11), (12, 14)]\n"
      ]
    },
    {
      "cell_type": "markdown",
      "metadata": {
        "id": "eZe27u4LHHMn"
      },
      "source": [
        "2. Write a program using a iterative greedy approach to get the maximun number of activities (`50 points`)"
      ]
    },
    {
      "cell_type": "code",
      "execution_count": 3,
      "metadata": {
        "vscode": {
          "languageId": "plaintext"
        },
        "id": "UrSZyQwEHHMn",
        "outputId": "185752b1-6970-4b31-edfc-70239a68e1a3",
        "colab": {
          "base_uri": "https://localhost:8080/"
        }
      },
      "outputs": [
        {
          "output_type": "stream",
          "name": "stdout",
          "text": [
            "[(1, 4), (5, 7), (8, 11), (12, 14)]\n"
          ]
        }
      ],
      "source": [
        "# put your answer here\n",
        "def iterative_max_activities(activities):\n",
        "    # Sort activities based on finish time\n",
        "    activities.sort(key=lambda x: x[1])\n",
        "\n",
        "    n = len(activities)\n",
        "    selected_activities = []\n",
        "\n",
        "    # The first activity always gets selected\n",
        "    i = 0\n",
        "    selected_activities.append(activities[i])\n",
        "\n",
        "    # Consider rest of the activities\n",
        "    for j in range(1, n):\n",
        "        # If this activity has a start time greater than or equal to the finish time\n",
        "        # of the previously selected activity, then select it\n",
        "        if activities[j][0] >= activities[i][1]:\n",
        "            selected_activities.append(activities[j])\n",
        "            i = j\n",
        "\n",
        "    return selected_activities\n",
        "\n",
        "\n",
        "activities = [\n",
        "    (1, 4), (3, 5), (0, 6), (5, 7), (3, 8),\n",
        "    (5, 9), (6, 10), (8, 11), (8, 12), (2, 13), (12, 14)\n",
        "]\n",
        "\n",
        "print(iterative_max_activities(activities))\n",
        "# Output: [(1, 4), (5, 7), (8, 11), (12, 14)]\n"
      ]
    }
  ],
  "metadata": {
    "colab": {
      "provenance": [],
      "include_colab_link": true
    },
    "kernelspec": {
      "display_name": "base",
      "language": "python",
      "name": "python3"
    },
    "language_info": {
      "codemirror_mode": {
        "name": "ipython",
        "version": 3
      },
      "file_extension": ".py",
      "mimetype": "text/x-python",
      "name": "python",
      "nbconvert_exporter": "python",
      "pygments_lexer": "ipython3",
      "version": "3.9.6"
    }
  },
  "nbformat": 4,
  "nbformat_minor": 0
}