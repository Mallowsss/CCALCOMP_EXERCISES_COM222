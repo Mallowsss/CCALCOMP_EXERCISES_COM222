{
  "cells": [
    {
      "cell_type": "markdown",
      "metadata": {
        "id": "3-prKGbfwFRd"
      },
      "source": [
        "# Exercise 1"
      ]
    },
    {
      "cell_type": "markdown",
      "metadata": {
        "id": "kBW-_z9HwFRf"
      },
      "source": [
        "Please follow the instructions in each number. Do not remove or modify the pre-defined code!"
      ]
    },
    {
      "cell_type": "code",
      "execution_count": null,
      "metadata": {
        "id": "ABAdD_ngwFRg"
      },
      "outputs": [],
      "source": [
        "# Add a vertex to the set of vertices and the graph\n",
        "def add_vertex(v):\n",
        "  global graph\n",
        "  global vertices_no\n",
        "  global vertices\n",
        "  if v in vertices:\n",
        "    print(\"Vertex \", v, \" already exists\")\n",
        "  else:\n",
        "    vertices_no = vertices_no + 1\n",
        "    vertices.append(v)\n",
        "    if vertices_no > 1:\n",
        "        for vertex in graph:\n",
        "            vertex.append(0)\n",
        "    temp = []\n",
        "    for i in range(vertices_no):\n",
        "        temp.append(0)\n",
        "    graph.append(temp)\n",
        "\n",
        "# Add an edge between vertex v1 and v2 with edge weight e\n",
        "def add_edge(v1, v2, e):\n",
        "    global graph\n",
        "    global vertices_no\n",
        "    global vertices\n",
        "    # Check if vertex v1 is a valid vertex\n",
        "    if v1 not in vertices:\n",
        "        print(\"Vertex \", v1, \" does not exist.\")\n",
        "    # Check if vertex v1 is a valid vertex\n",
        "    elif v2 not in vertices:\n",
        "        print(\"Vertex \", v2, \" does not exist.\")\n",
        "    # Since this code is not restricted to a directed or\n",
        "    # an undirected graph, an edge between v1 v2 does not\n",
        "    # imply that an edge exists between v2 and v1\n",
        "    else:\n",
        "        index1 = vertices.index(v1)\n",
        "        index2 = vertices.index(v2)\n",
        "        graph[index1][index2] = e\n",
        "\n",
        "# Print the graph\n",
        "def print_graph():\n",
        "  global graph\n",
        "  global vertices_no\n",
        "  for i in range(vertices_no):\n",
        "    for j in range(vertices_no):\n",
        "      if graph[i][j] != 0:\n",
        "        print(vertices[i], \" -> \", vertices[j],\n",
        "              \" edge weight: \", graph[i][j])"
      ]
    },
    {
      "cell_type": "code",
      "execution_count": null,
      "metadata": {
        "id": "912w9tR0wFRh"
      },
      "outputs": [],
      "source": [
        "# stores the vertices in the graph\n",
        "vertices = []\n",
        "# stores the number of vertices in the graph\n",
        "vertices_no = 0\n",
        "graph = []"
      ]
    },
    {
      "cell_type": "markdown",
      "metadata": {
        "id": "lzkib3wYwFRh"
      },
      "source": [
        "<img src=\"https://github.com/robitussin/CCALCOMP_EXERCISES/blob/main/images/directed%20graph2.png?raw=true\"/>"
      ]
    },
    {
      "cell_type": "markdown",
      "metadata": {
        "id": "Qfh-2gbPwFRi"
      },
      "source": [
        "1. Print the edges and vertices of the graph in set representation. (`25 points`)"
      ]
    },
    {
      "cell_type": "code",
      "execution_count": 18,
      "metadata": {
        "id": "FSymqoxmwFRi",
        "outputId": "e754e9ee-5d91-486e-ef38-baf364a01216",
        "colab": {
          "base_uri": "https://localhost:8080/"
        }
      },
      "outputs": [
        {
          "output_type": "stream",
          "name": "stdout",
          "text": [
            "Edges: {('B', 'A', 10), ('C', 'B', 20), ('C', 'D', 32), ('E', 'A', 7), ('A', 'C', 12), ('A', 'D', 60)}\n",
            "Vertices: {'C', 'E', 'A', 'B', 'D'}\n"
          ]
        }
      ],
      "source": [
        "# put your answer here\n",
        "# Print the graph\n",
        "def print_graph():\n",
        "    global graph\n",
        "    global vertices\n",
        "    edges = set()\n",
        "    for i in range(len(vertices)):\n",
        "        for j in range(len(vertices)):\n",
        "            if graph[i][j] != 0:\n",
        "                edges.add((vertices[i], vertices[j], graph[i][j]))\n",
        "    print(\"Edges:\", edges)\n",
        "    print(\"Vertices:\", set(vertices))\n",
        "\n",
        "# Initialize graph and vertices\n",
        "graph = []\n",
        "vertices = []\n",
        "\n",
        "# Add a vertex to the set of vertices and the graph\n",
        "def add_vertex(v):\n",
        "    global graph\n",
        "    global vertices\n",
        "    if v in vertices:\n",
        "        print(\"Vertex \", v, \" already exists\")\n",
        "    else:\n",
        "        vertices.append(v)\n",
        "        for row in graph:\n",
        "            row.append(0)\n",
        "        graph.append([0] * len(vertices))\n",
        "\n",
        "# Add an edge between vertex v1 and v2 with edge weight e\n",
        "def add_edge(v1, v2, e):\n",
        "    global graph\n",
        "    global vertices\n",
        "    if v1 not in vertices:\n",
        "        print(\"Vertex \", v1, \" does not exist.\")\n",
        "    elif v2 not in vertices:\n",
        "        print(\"Vertex \", v2, \" does not exist.\")\n",
        "    else:\n",
        "        index1 = vertices.index(v1)\n",
        "        index2 = vertices.index(v2)\n",
        "        graph[index1][index2] = e\n",
        "\n",
        "# Add vertices to the graph\n",
        "add_vertex('A')\n",
        "add_vertex('B')\n",
        "add_vertex('C')\n",
        "add_vertex('D')\n",
        "add_vertex('E')\n",
        "\n",
        "# Add the edges between the vertices by specifying\n",
        "# the from and to vertex along with the edge weights.\n",
        "add_edge('A', 'C', 12)\n",
        "add_edge('A', 'D', 60)\n",
        "add_edge('B', 'A', 10)\n",
        "add_edge('C', 'B', 20)\n",
        "add_edge('C', 'D', 32)\n",
        "add_edge('E', 'A', 7)\n",
        "\n",
        "print_graph()"
      ]
    },
    {
      "cell_type": "markdown",
      "metadata": {
        "id": "NHt6QEFzwFRi"
      },
      "source": [
        "2. Implement the weighted graph in python code. Use the print_graph() function. (`25 points`)"
      ]
    },
    {
      "cell_type": "code",
      "execution_count": 20,
      "metadata": {
        "id": "fcYP9VF9wFRj",
        "outputId": "86ec14f8-9e25-409c-ad67-ac46685769c7",
        "colab": {
          "base_uri": "https://localhost:8080/"
        }
      },
      "outputs": [
        {
          "output_type": "stream",
          "name": "stdout",
          "text": [
            "A  ->  C  edge weight:  12\n",
            "A  ->  D  edge weight:  60\n",
            "B  ->  A  edge weight:  10\n",
            "C  ->  B  edge weight:  20\n",
            "C  ->  D  edge weight:  32\n",
            "E  ->  A  edge weight:  7\n"
          ]
        }
      ],
      "source": [
        "# put your answer here\n",
        "# Print the graph\n",
        "def print_graph():\n",
        "    global graph\n",
        "    global vertices\n",
        "    edges = set()\n",
        "    for i in range(len(vertices)):\n",
        "        for j in range(len(vertices)):\n",
        "            if graph[i][j] != 0:\n",
        "                print(vertices[i], \" -> \", vertices[j], \" edge weight: \", graph[i][j])\n",
        "\n",
        "# Initialize graph and vertices\n",
        "graph = []\n",
        "vertices = []\n",
        "\n",
        "# Add a vertex to the set of vertices and the graph\n",
        "def add_vertex(v):\n",
        "    global graph\n",
        "    global vertices\n",
        "    if v in vertices:\n",
        "        print(\"Vertex \", v, \" already exists\")\n",
        "    else:\n",
        "        vertices.append(v)\n",
        "        for row in graph:\n",
        "            row.append(0)\n",
        "        graph.append([0] * len(vertices))\n",
        "\n",
        "# Add an edge between vertex v1 and v2 with edge weight e\n",
        "def add_edge(v1, v2, e):\n",
        "    global graph\n",
        "    global vertices\n",
        "    if v1 not in vertices:\n",
        "        print(\"Vertex \", v1, \" does not exist.\")\n",
        "    elif v2 not in vertices:\n",
        "        print(\"Vertex \", v2, \" does not exist.\")\n",
        "    else:\n",
        "        index1 = vertices.index(v1)\n",
        "        index2 = vertices.index(v2)\n",
        "        graph[index1][index2] = e\n",
        "\n",
        "# Add vertices to the graph\n",
        "add_vertex('A')\n",
        "add_vertex('B')\n",
        "add_vertex('C')\n",
        "add_vertex('D')\n",
        "add_vertex('E')\n",
        "\n",
        "# Add the edges between the vertices by specifying\n",
        "# the from and to vertex along with the edge weights.\n",
        "add_edge('A', 'C', 12)\n",
        "add_edge('A', 'D', 60)\n",
        "add_edge('B', 'A', 10)\n",
        "add_edge('C', 'B', 20)\n",
        "add_edge('C', 'D', 32)\n",
        "add_edge('E', 'A', 7)\n",
        "\n",
        "print_graph()"
      ]
    },
    {
      "cell_type": "markdown",
      "metadata": {
        "id": "kD-6afNTwFRj"
      },
      "source": [
        "3. You decided to go on a trip around the philippines. Being a computer scientist, you wanted to find the optimal route that would cost the least amount of money to travel all four cities. Find the route and print the total cost of the most optimal route. (`50 points`)"
      ]
    },
    {
      "cell_type": "markdown",
      "metadata": {
        "id": "cBHIHSIewFRj"
      },
      "source": [
        "<img src=\"https://github.com/robitussin/CCALCOMP_EXERCISES/blob/main/images/trip.png?raw=true\" width=\"500\" height=\"600\"/>"
      ]
    },
    {
      "cell_type": "code",
      "execution_count": 30,
      "metadata": {
        "id": "yNwmvIXnwFRj",
        "outputId": "0c13c779-d986-4635-a183-8918c595fd86",
        "colab": {
          "base_uri": "https://localhost:8080/"
        }
      },
      "outputs": [
        {
          "output_type": "stream",
          "name": "stdout",
          "text": [
            "Manila  ->  Tacloban  edge weight:  1000\n",
            "Tacloban  ->  Puerto Princesa  edge weight:  1500\n",
            "Tacloban  ->  Davao  edge weight:  2000\n",
            "Edges: {('Manila', 'Tacloban', 1000), ('Tacloban', 'Puerto Princesa', 1500), ('Tacloban', 'Davao', 2000)}\n",
            "Vertices: {'Davao', 'Puerto Princesa', 'Tacloban', 'Manila'}\n",
            "Total Cost: 4500\n"
          ]
        }
      ],
      "source": [
        "# put your answer here\n",
        "# Print the graph\n",
        "def print_graph():\n",
        "    global graph\n",
        "    global vertices\n",
        "    edges = set()\n",
        "    total_weighted_edges = 0  # Initialize the total weighted edges counter\n",
        "    for i in range(len(vertices)):\n",
        "        for j in range(len(vertices)):\n",
        "            if graph[i][j] != 0:\n",
        "                edges.add((vertices[i], vertices[j], graph[i][j]))\n",
        "                total_weighted_edges += graph[i][j]  # Add the weight to the total\n",
        "                print(vertices[i], \" -> \", vertices[j], \" edge weight: \", graph[i][j])\n",
        "\n",
        "    print(\"Edges:\", edges)\n",
        "    print(\"Vertices:\", set(vertices))\n",
        "\n",
        "# Print the total weighted edges\n",
        "    print(\"Total Cost:\", total_weighted_edges)\n",
        "\n",
        "# Initialize graph and vertices\n",
        "graph = []\n",
        "vertices = []\n",
        "\n",
        "# Add a vertex to the set of vertices and the graph\n",
        "def add_vertex(v):\n",
        "    global graph\n",
        "    global vertices\n",
        "    if v in vertices:\n",
        "        print(\"Vertex \", v, \" already exists\")\n",
        "    else:\n",
        "        vertices.append(v)\n",
        "        for row in graph:\n",
        "            row.append(0)\n",
        "        graph.append([0] * len(vertices))\n",
        "\n",
        "# Add an edge between vertex v1 and v2 with edge weight e\n",
        "def add_edge(v1, v2, e):\n",
        "    global graph\n",
        "    global vertices\n",
        "    if v1 not in vertices:\n",
        "        print(\"Vertex \", v1, \" does not exist.\")\n",
        "    elif v2 not in vertices:\n",
        "        print(\"Vertex \", v2, \" does not exist.\")\n",
        "    else:\n",
        "        index1 = vertices.index(v1)\n",
        "        index2 = vertices.index(v2)\n",
        "        graph[index1][index2] = e\n",
        "\n",
        "# Add vertices to the graph\n",
        "add_vertex('Manila')\n",
        "add_vertex('Tacloban')\n",
        "add_vertex('Puerto Princesa')\n",
        "add_vertex('Davao')\n",
        "\n",
        "# Add the edges between the vertices by specifying\n",
        "# the from and to vertex along with the edge weights.\n",
        "add_edge('Manila', 'Tacloban', 1000)\n",
        "add_edge('Tacloban', 'Puerto Princesa', 1500)\n",
        "add_edge('Tacloban', 'Davao', 2000)\n",
        "\n",
        "print_graph()"
      ]
    }
  ],
  "metadata": {
    "kernelspec": {
      "display_name": "base",
      "language": "python",
      "name": "python3"
    },
    "language_info": {
      "codemirror_mode": {
        "name": "ipython",
        "version": 3
      },
      "file_extension": ".py",
      "mimetype": "text/x-python",
      "name": "python",
      "nbconvert_exporter": "python",
      "pygments_lexer": "ipython3",
      "version": "3.9.6"
    },
    "colab": {
      "provenance": []
    }
  },
  "nbformat": 4,
  "nbformat_minor": 0
}